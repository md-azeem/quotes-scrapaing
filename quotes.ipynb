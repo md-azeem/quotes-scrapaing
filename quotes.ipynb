{
 "cells": [
  {
   "cell_type": "code",
   "execution_count": 1,
   "metadata": {},
   "outputs": [],
   "source": [
    "import requests\n",
    "import bs4\n",
    "from collections import Counter"
   ]
  },
  {
   "cell_type": "markdown",
   "metadata": {},
   "source": [
    "# print all unique authors"
   ]
  },
  {
   "cell_type": "code",
   "execution_count": 2,
   "metadata": {},
   "outputs": [
    {
     "name": "stdout",
     "output_type": "stream",
     "text": [
      "1    Albert Einstein\n",
      "2    J.K. Rowling\n",
      "3    Jane Austen\n",
      "4    Marilyn Monroe\n",
      "5    André Gide\n",
      "6    Thomas A. Edison\n",
      "7    Eleanor Roosevelt\n",
      "8    Steve Martin\n",
      "9    Bob Marley\n",
      "10    Dr. Seuss\n",
      "11    Douglas Adams\n",
      "12    Elie Wiesel\n",
      "13    Friedrich Nietzsche\n",
      "14    Mark Twain\n",
      "15    Allen Saunders\n",
      "16    Pablo Neruda\n",
      "17    Ralph Waldo Emerson\n",
      "18    Mother Teresa\n",
      "19    Garrison Keillor\n",
      "20    Jim Henson\n",
      "21    Charles M. Schulz\n",
      "22    William Nicholson\n",
      "23    Jorge Luis Borges\n",
      "24    George Eliot\n",
      "25    George R.R. Martin\n",
      "26    C.S. Lewis\n",
      "27    Martin Luther King Jr.\n",
      "28    James Baldwin\n",
      "29    Haruki Murakami\n",
      "30    Alexandre Dumas fils\n",
      "31    Stephenie Meyer\n",
      "32    Ernest Hemingway\n",
      "33    Helen Keller\n",
      "34    George Bernard Shaw\n",
      "35    Charles Bukowski\n",
      "36    Suzanne Collins\n",
      "37    J.R.R. Tolkien\n",
      "38    Alfred Tennyson\n",
      "39    Terry Pratchett\n",
      "40    J.D. Salinger\n",
      "41    George Carlin\n",
      "42    John Lennon\n",
      "43    W.C. Fields\n",
      "44    Ayn Rand\n",
      "45    Jimi Hendrix\n",
      "46    J.M. Barrie\n",
      "47    E.E. Cummings\n",
      "48    Khaled Hosseini\n",
      "49    Harper Lee\n",
      "50    Madeleine L'Engle\n",
      "\n",
      "End reached\n"
     ]
    }
   ],
   "source": [
    "page = 1\n",
    "names = []\n",
    "while True:\n",
    "    result = requests.get(f\"http://quotes.toscrape.com/page/{page}/\")\n",
    "    soup = bs4.BeautifulSoup(result.text,\"lxml\")\n",
    "    if [] != soup.select('.author'): #as the number of page on the website in not specified\n",
    "        authors = soup.select('.author')\n",
    "        for author in authors:\n",
    "            names.append(author.getText())\n",
    "        page += 1\n",
    "    else:\n",
    "        for counter,name in enumerate(list(Counter(names)),1):\n",
    "            print(counter,'  ',name)\n",
    "        print('\\nEnd reached')\n",
    "        break"
   ]
  },
  {
   "cell_type": "markdown",
   "metadata": {},
   "source": [
    "# Print quotes by Albert Einstein"
   ]
  },
  {
   "cell_type": "code",
   "execution_count": 3,
   "metadata": {},
   "outputs": [
    {
     "name": "stdout",
     "output_type": "stream",
     "text": [
      "1    “The world as we have created it is a process of our thinking. It cannot be changed without changing our thinking.”\n",
      "2    “There are only two ways to live your life. One is as though nothing is a miracle. The other is as though everything is a miracle.”\n",
      "3    “Try not to become a man of success. Rather become a man of value.”\n",
      "4    “If you can't explain it to a six year old, you don't understand it yourself.”\n",
      "5    “If you want your children to be intelligent, read them fairy tales. If you want them to be more intelligent, read them more fairy tales.”\n",
      "6    “Logic will get you from A to Z; imagination will get you everywhere.”\n",
      "7    “Any fool can know. The point is to understand.”\n",
      "8    “Life is like riding a bicycle. To keep your balance, you must keep moving.”\n",
      "9    “If I were not a physicist, I would probably be a musician. I often think in music. I live my daydreams in music. I see my life in terms of music.”\n",
      "10    “Anyone who has never made a mistake has never tried anything new.”\n",
      "\n",
      "End reached\n"
     ]
    }
   ],
   "source": [
    "quotes = []\n",
    "page = 1\n",
    "while True:\n",
    "    result = requests.get(f\"http://quotes.toscrape.com/page/{page}/\")\n",
    "    soup = bs4.BeautifulSoup(result.text,\"lxml\")\n",
    "    if [] != soup.select('.author'):#as the number of page on the website in not specified\n",
    "        authors = soup.select('.author')\n",
    "        for counter,author in enumerate(authors):\n",
    "            if author.get_text() == 'Albert Einstein':\n",
    "                quotes.append(soup.select('.text')[counter].get_text())\n",
    "        page += 1\n",
    "    else:\n",
    "        for counter,quote in enumerate(quotes,1):\n",
    "            print(counter,'  ',quote)\n",
    "        print('\\nEnd reached')\n",
    "        break"
   ]
  }
 ],
 "metadata": {
  "kernelspec": {
   "display_name": "Python 3",
   "language": "python",
   "name": "python3"
  },
  "language_info": {
   "codemirror_mode": {
    "name": "ipython",
    "version": 3
   },
   "file_extension": ".py",
   "mimetype": "text/x-python",
   "name": "python",
   "nbconvert_exporter": "python",
   "pygments_lexer": "ipython3",
   "version": "3.6.10"
  }
 },
 "nbformat": 4,
 "nbformat_minor": 4
}
